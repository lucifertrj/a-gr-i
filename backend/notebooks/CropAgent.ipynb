{
 "cells": [
  {
   "cell_type": "code",
   "execution_count": 33,
   "id": "86682177",
   "metadata": {},
   "outputs": [],
   "source": [
    "import tensorflow as tf\n",
    "import os \n",
    "import tensorflow.keras as keras\n",
    "import re\n",
    "import matplotlib.pyplot as plt\n",
    "import numpy as np\n",
    "from tensorflow.keras.preprocessing.image import ImageDataGenerator"
   ]
  },
  {
   "cell_type": "code",
   "execution_count": 20,
   "id": "15e9128d",
   "metadata": {},
   "outputs": [],
   "source": [
    "IMAGE_SHAPE = (224,224)\n",
    "numEPOCHS = 3\n",
    "BATCH_SIZE = 64 "
   ]
  },
  {
   "cell_type": "code",
   "execution_count": 21,
   "id": "e0cc0663",
   "metadata": {},
   "outputs": [],
   "source": [
    "TRAIN_DIR = \"cropdisease/train\"\n",
    "VALID_DIR = \"cropdisease/valid/\""
   ]
  },
  {
   "cell_type": "code",
   "execution_count": 22,
   "id": "5669ebf1",
   "metadata": {},
   "outputs": [
    {
     "data": {
      "text/plain": [
       "(20, 20)"
      ]
     },
     "execution_count": 22,
     "metadata": {},
     "output_type": "execute_result"
    }
   ],
   "source": [
    "#os.listdir(TRAIN_DIR)\n",
    "len(os.listdir(TRAIN_DIR)),len(os.listdir(VALID_DIR))"
   ]
  },
  {
   "cell_type": "code",
   "execution_count": 23,
   "id": "47face16",
   "metadata": {},
   "outputs": [
    {
     "data": {
      "text/plain": [
       "20"
      ]
     },
     "execution_count": 23,
     "metadata": {},
     "output_type": "execute_result"
    }
   ],
   "source": [
    "CLASS_NUMS = len(os.listdir(TRAIN_DIR))\n",
    "CLASS_NUMS"
   ]
  },
  {
   "cell_type": "code",
   "execution_count": 24,
   "id": "64888c18",
   "metadata": {},
   "outputs": [],
   "source": [
    "training_aug = ImageDataGenerator(rescale=1./255,\n",
    "                                  rotation_range=45,\n",
    "                                  zoom_range=0.2,\n",
    "                                  horizontal_flip=True,\n",
    "                                  fill_mode='nearest')"
   ]
  },
  {
   "cell_type": "code",
   "execution_count": 25,
   "id": "72f0ef9b",
   "metadata": {},
   "outputs": [],
   "source": [
    "testing_aug = ImageDataGenerator(rescale = 1/255.0)"
   ]
  },
  {
   "cell_type": "code",
   "execution_count": 26,
   "id": "52eac974",
   "metadata": {},
   "outputs": [
    {
     "name": "stdout",
     "output_type": "stream",
     "text": [
      "Found 36750 images belonging to 20 classes.\n"
     ]
    }
   ],
   "source": [
    "training_data = training_aug.flow_from_directory(TRAIN_DIR,\n",
    "                                   batch_size=BATCH_SIZE,\n",
    "                                   target_size=IMAGE_SHAPE,\n",
    "                                   shuffle=True,\n",
    "                                   class_mode='categorical')"
   ]
  },
  {
   "cell_type": "code",
   "execution_count": 27,
   "id": "7c85e3de",
   "metadata": {},
   "outputs": [
    {
     "name": "stdout",
     "output_type": "stream",
     "text": [
      "Found 9148 images belonging to 20 classes.\n"
     ]
    }
   ],
   "source": [
    "testing_data = testing_aug.flow_from_directory(VALID_DIR,\n",
    "                                   batch_size=BATCH_SIZE,\n",
    "                                   target_size=IMAGE_SHAPE,\n",
    "                                   class_mode='categorical')"
   ]
  },
  {
   "cell_type": "code",
   "execution_count": 31,
   "id": "ad965e4f",
   "metadata": {},
   "outputs": [
    {
     "data": {
      "text/plain": [
       "{0: 'Apple___Cedar_apple_rust',\n",
       " 1: 'Apple___healthy',\n",
       " 2: 'Blueberry___healthy',\n",
       " 3: 'Cherry_(including_sour)___Powdery_mildew',\n",
       " 4: 'Cherry_(including_sour)___healthy',\n",
       " 5: 'Corn_(maize)___Common_rust_',\n",
       " 6: 'Corn_(maize)___healthy',\n",
       " 7: 'Grape___Black_rot',\n",
       " 8: 'Grape___healthy',\n",
       " 9: 'Peach___Bacterial_spot',\n",
       " 10: 'Peach___healthy',\n",
       " 11: 'Pepper,_bell___Bacterial_spot',\n",
       " 12: 'Pepper,_bell___healthy',\n",
       " 13: 'Potato___Early_blight',\n",
       " 14: 'Potato___Late_blight',\n",
       " 15: 'Potato___healthy',\n",
       " 16: 'Strawberry___Leaf_scorch',\n",
       " 17: 'Strawberry___healthy',\n",
       " 18: 'Tomato___Bacterial_spot',\n",
       " 19: 'Tomato___healthy'}"
      ]
     },
     "execution_count": 31,
     "metadata": {},
     "output_type": "execute_result"
    }
   ],
   "source": [
    "reversed_dict = {value: key for key, value in training_data.class_indices.items()}\n",
    "reversed_dict"
   ]
  },
  {
   "cell_type": "code",
   "execution_count": 100,
   "id": "38f95d10",
   "metadata": {},
   "outputs": [],
   "source": [
    "model = keras.models.Sequential()\n",
    "model.add(keras.layers.Conv2D(32,3,input_shape=(224,224,3)))\n",
    "model.add(keras.layers.BatchNormalization())\n",
    "model.add(keras.layers.MaxPooling2D())\n",
    "model.add(keras.layers.Conv2D(64,3,activation=\"relu\"))\n",
    "model.add(keras.layers.BatchNormalization())\n",
    "model.add(keras.layers.MaxPooling2D())\n",
    "model.add(keras.layers.Conv2D(128,3,activation=\"relu\"))\n",
    "model.add(keras.layers.BatchNormalization())\n",
    "model.add(keras.layers.MaxPooling2D())\n",
    "model.add(keras.layers.Flatten())\n",
    "model.add(keras.layers.Dense(128,activation=\"relu\"))\n",
    "model.add(keras.layers.Dense(20,activation=\"softmax\"))"
   ]
  },
  {
   "cell_type": "code",
   "execution_count": 101,
   "id": "6b290b81",
   "metadata": {},
   "outputs": [],
   "source": [
    "model.compile(optimizer=\"adam\",loss=\"categorical_crossentropy\",metrics=['acc'])"
   ]
  },
  {
   "cell_type": "code",
   "execution_count": 103,
   "id": "4f6ccf42",
   "metadata": {},
   "outputs": [
    {
     "name": "stdout",
     "output_type": "stream",
     "text": [
      "Epoch 1/3\n",
      "100/100 [==============================] - 881s 9s/step - loss: 1.9247 - acc: 0.4928 - val_loss: 23.9794 - val_acc: 0.0458\n",
      "Epoch 2/3\n",
      "100/100 [==============================] - 679s 7s/step - loss: 1.6085 - acc: 0.5520 - val_loss: 24.0437 - val_acc: 0.1033\n",
      "Epoch 3/3\n",
      "100/100 [==============================] - 599s 6s/step - loss: 1.3711 - acc: 0.6136 - val_loss: 26.6688 - val_acc: 0.1439\n"
     ]
    }
   ],
   "source": [
    "history = model.fit(training_data,validation_data=testing_data,epochs=numEPOCHS,steps_per_epoch=100)"
   ]
  },
  {
   "cell_type": "code",
   "execution_count": 2,
   "id": "9b466e1e",
   "metadata": {},
   "outputs": [],
   "source": [
    "model.save(\"crop_agent.h5\")"
   ]
  },
  {
   "cell_type": "code",
   "execution_count": 8,
   "id": "9309e3ef",
   "metadata": {},
   "outputs": [],
   "source": [
    "from tensorflow import keras\n",
    "\n",
    "import warnings\n",
    "warnings.filterwarnings(\"ignore\")"
   ]
  },
  {
   "cell_type": "code",
   "execution_count": 9,
   "id": "22e8b155",
   "metadata": {},
   "outputs": [
    {
     "name": "stderr",
     "output_type": "stream",
     "text": [
      "WARNING:absl:Found untraced functions such as _jit_compiled_convolution_op, _jit_compiled_convolution_op, _jit_compiled_convolution_op, _update_step_xla while saving (showing 4 of 4). These functions will not be directly callable after loading.\n"
     ]
    },
    {
     "name": "stdout",
     "output_type": "stream",
     "text": [
      "INFO:tensorflow:Assets written to: /tmp/tmp1j1h8ow_/assets\n"
     ]
    },
    {
     "name": "stderr",
     "output_type": "stream",
     "text": [
      "INFO:tensorflow:Assets written to: /tmp/tmp1j1h8ow_/assets\n",
      "2023-06-10 19:09:40.914449: W tensorflow/compiler/mlir/lite/python/tf_tfl_flatbuffer_helpers.cc:362] Ignored output_format.\n",
      "2023-06-10 19:09:40.914529: W tensorflow/compiler/mlir/lite/python/tf_tfl_flatbuffer_helpers.cc:365] Ignored drop_control_dependency.\n",
      "2023-06-10 19:09:40.914973: I tensorflow/cc/saved_model/reader.cc:45] Reading SavedModel from: /tmp/tmp1j1h8ow_\n",
      "2023-06-10 19:09:40.925284: I tensorflow/cc/saved_model/reader.cc:89] Reading meta graph with tags { serve }\n",
      "2023-06-10 19:09:40.925353: I tensorflow/cc/saved_model/reader.cc:130] Reading SavedModel debug info (if present) from: /tmp/tmp1j1h8ow_\n",
      "2023-06-10 19:09:40.951711: I tensorflow/cc/saved_model/loader.cc:229] Restoring SavedModel bundle.\n",
      "2023-06-10 19:09:41.174319: I tensorflow/cc/saved_model/loader.cc:213] Running initialization op on SavedModel bundle at path: /tmp/tmp1j1h8ow_\n",
      "2023-06-10 19:09:41.208009: I tensorflow/cc/saved_model/loader.cc:305] SavedModel load for tags { serve }; Status: success: OK. Took 293040 microseconds.\n"
     ]
    }
   ],
   "source": [
    "model = keras.models.load_model('crop_agent.h5')\n",
    "converter = tf.lite.TFLiteConverter.from_keras_model(model)\n",
    "tflite_model = converter.convert()"
   ]
  },
  {
   "cell_type": "code",
   "execution_count": 10,
   "id": "c8dca2a8",
   "metadata": {},
   "outputs": [],
   "source": [
    "with open('cropAgent.tflite', 'wb') as f:\n",
    "    f.write(tflite_model)"
   ]
  },
  {
   "cell_type": "code",
   "execution_count": 11,
   "id": "b7c138e8",
   "metadata": {},
   "outputs": [
    {
     "name": "stderr",
     "output_type": "stream",
     "text": [
      "INFO: Created TensorFlow Lite XNNPACK delegate for CPU.\n"
     ]
    }
   ],
   "source": [
    "interpreter = tf.lite.Interpreter(model_path='cropAgent.tflite')\n",
    "interpreter.allocate_tensors()"
   ]
  },
  {
   "cell_type": "code",
   "execution_count": 15,
   "id": "9ee24075",
   "metadata": {},
   "outputs": [],
   "source": [
    "image_path = 'cropdisease/valid/Apple___Cedar_apple_rust/025b2b9a-0ec4-4132-96ac-7f2832d0db4a___FREC_C.Rust 3655_newGRR.JPG'\n",
    "image = tf.keras.preprocessing.image.load_img(image_path, target_size=(224, 224,3))\n",
    "input_image = tf.keras.preprocessing.image.img_to_array(image)\n",
    "input_image = tf.expand_dims(input_image, axis=0)\n",
    "input_image /= 255.0  "
   ]
  },
  {
   "cell_type": "code",
   "execution_count": 16,
   "id": "920957b8",
   "metadata": {},
   "outputs": [],
   "source": [
    "input_details = interpreter.get_input_details()\n",
    "output_details = interpreter.get_output_details()\n",
    "\n",
    "interpreter.set_tensor(input_details[0]['index'], input_image)\n",
    "interpreter.invoke()\n",
    "predictions = interpreter.get_tensor(output_details[0]['index'])"
   ]
  },
  {
   "cell_type": "code",
   "execution_count": 18,
   "id": "27559479",
   "metadata": {},
   "outputs": [],
   "source": [
    "prediction_result = np.argmax(predictions)"
   ]
  },
  {
   "cell_type": "code",
   "execution_count": 19,
   "id": "4fd16865",
   "metadata": {},
   "outputs": [
    {
     "data": {
      "text/plain": [
       "5"
      ]
     },
     "execution_count": 19,
     "metadata": {},
     "output_type": "execute_result"
    }
   ],
   "source": [
    "prediction_result"
   ]
  },
  {
   "cell_type": "code",
   "execution_count": 32,
   "id": "7ab94dbd",
   "metadata": {},
   "outputs": [
    {
     "data": {
      "text/plain": [
       "'Corn_(maize)___Common_rust_'"
      ]
     },
     "execution_count": 32,
     "metadata": {},
     "output_type": "execute_result"
    }
   ],
   "source": [
    "prediction_result = reversed_dict[prediction_result]\n",
    "prediction_result"
   ]
  },
  {
   "cell_type": "code",
   "execution_count": 35,
   "id": "ee2593e0",
   "metadata": {},
   "outputs": [
    {
     "name": "stdout",
     "output_type": "stream",
     "text": [
      "Corn (maize) Common rust \n"
     ]
    }
   ],
   "source": [
    "prediction_result = re.sub(r'_{1,}', ' ', prediction_result)\n",
    "print(prediction_result)"
   ]
  },
  {
   "cell_type": "markdown",
   "id": "6dfdf41a",
   "metadata": {},
   "source": [
    "## LLamaIndex Integration"
   ]
  },
  {
   "cell_type": "code",
   "execution_count": 44,
   "id": "1197d567",
   "metadata": {},
   "outputs": [],
   "source": [
    "!pip install -qU langchain openai tiktoken"
   ]
  },
  {
   "cell_type": "code",
   "execution_count": 41,
   "id": "5db11d45",
   "metadata": {},
   "outputs": [
    {
     "name": "stdout",
     "output_type": "stream",
     "text": [
      "········\n"
     ]
    }
   ],
   "source": [
    "import openai\n",
    "import os\n",
    "from getpass import getpass\n",
    "os.environ['OPENAI_API_KEY'] = getpass()"
   ]
  },
  {
   "cell_type": "code",
   "execution_count": 42,
   "id": "d958bfbd",
   "metadata": {},
   "outputs": [
    {
     "name": "stdout",
     "output_type": "stream",
     "text": [
      "········\n"
     ]
    }
   ],
   "source": [
    "os.environ[\"WOLFRAM_ALPHA_APPID\"] = getpass()"
   ]
  },
  {
   "cell_type": "code",
   "execution_count": 46,
   "id": "a9abad40",
   "metadata": {},
   "outputs": [],
   "source": [
    "!pip install -qU wolframalpha\n",
    "!pip install -qU wikipedia"
   ]
  },
  {
   "cell_type": "code",
   "execution_count": 43,
   "id": "d5fef8be",
   "metadata": {},
   "outputs": [],
   "source": [
    "about = f\"Please tell me about {prediction_result} crop\""
   ]
  },
  {
   "cell_type": "code",
   "execution_count": 44,
   "id": "a22400b5",
   "metadata": {},
   "outputs": [],
   "source": [
    "caused = f\"How is {prediction_result} crop diseased caused?\""
   ]
  },
  {
   "cell_type": "code",
   "execution_count": 45,
   "id": "f83f5f35",
   "metadata": {},
   "outputs": [],
   "source": [
    "cure = f\"What is cure for {prediction_result} crop diseased?\""
   ]
  },
  {
   "cell_type": "code",
   "execution_count": 47,
   "id": "918a8454",
   "metadata": {},
   "outputs": [],
   "source": [
    "from langchain.agents import load_tools\n",
    "from langchain.agents import initialize_agent\n",
    "from langchain.agents import AgentType\n",
    "from langchain.llms import OpenAI\n",
    "from langchain.utilities.wolfram_alpha import WolframAlphaAPIWrapper\n",
    "from langchain.memory import ConversationBufferMemory\n",
    "from langchain.chat_models import ChatOpenAI\n",
    "#\n",
    "llm = ChatOpenAI(temperature=0)\n",
    "#define tools for the agent\n",
    "tools = load_tools(['wikipedia','wolfram-alpha'],llm=llm)\n",
    "#Setting a memory for conversation\n",
    "memory = ConversationBufferMemory(memory_key=\"chat_history\",return_messages=True)\n",
    "#Define Agent\n",
    "agent = initialize_agent(tools,llm,agent=AgentType.CONVERSATIONAL_REACT_DESCRIPTION,\n",
    "                         verbose=True,\n",
    "                         memory=memory,\n",
    "                         max_iterations=6)"
   ]
  },
  {
   "cell_type": "code",
   "execution_count": 48,
   "id": "43917eaf",
   "metadata": {},
   "outputs": [
    {
     "name": "stdout",
     "output_type": "stream",
     "text": [
      "\n",
      "\n",
      "\u001b[1m> Entering new AgentExecutor chain...\u001b[0m\n",
      "\u001b[32;1m\u001b[1;3mThought: Do I need to use a tool? Yes\n",
      "Action: Wikipedia\n",
      "Action Input: Corn common rust\u001b[0m\n",
      "Observation: \u001b[36;1m\u001b[1;3mPage: Rust (fungus)\n",
      "Summary: Rusts are plant diseases caused by pathogenic fungi of the order Pucciniales (previously known as Uredinales).\n",
      "An estimated 168 rust genera and approximately 7,000 species, more than half of which belong to the genus Puccinia, are currently accepted. Rust fungi are highly specialized plant pathogens with several unique features. Taken as a group, rust fungi are diverse and affect many kinds of plants. However, each species has a very narrow range of hosts and cannot be transmitted to non-host plants. In addition, most rust fungi cannot be grown easily in pure culture.\n",
      "A single species of rust fungi may be able to infect two different plant hosts in different stages of its life cycle, and may produce up to five morphologically and cytologically distinct spore-producing structures viz., spermogonia, aecia, uredinia, telia, and basidia in successive stages of reproduction.  Each spore type is very host specific, and can typically infect only one kind of plant.\n",
      "Rust fungi are obligate plant pathogens that only infect living plants. Infections begin when a spore lands on the plant surface, germinates, and invades its host. Infection is limited to plant parts such as leaves, petioles, tender shoots, stem, fruits, etc. Plants with severe rust infection may appear stunted, chlorotic (yellowed), or may display signs of infection such as rust fruiting bodies. Rust fungi grow intracellularly, and make spore-producing fruiting bodies within or, more often, on the surfaces of affected plant parts.  Some rust species form perennial systemic infections that may cause plant deformities such as growth retardation, witch's broom, stem canker, galls, or hypertrophy of affected plant parts.\n",
      "Rusts get their name because they are most commonly observed as deposits of powdery rust-coloured or brown spores on plant surfaces. The Roman agricultural festival Robigalia (April 25) has ancient origins in combating wheat rust.\n",
      "\n",
      "Page: Puccinia sorghi\n",
      "Summary: Puccinia sorghi, or common rust of maize, is a species of rust fungus that infects corn and species from the plant genus Oxalis.\n",
      "\n",
      "\u001b[0m\n",
      "Thought:"
     ]
    }
   ],
   "source": [
    "try:\n",
    "    info = agent.run(input=about)\n",
    "except Exception as e:\n",
    "    info =str(e)\n",
    "    if info.startswith(\"Could not parse LLM output: `\"):\n",
    "        info = info.removeprefix(\"Could not parse LLM output: `\").removesuffix(\"`\")\n",
    "    else:\n",
    "        raise Exception(str(e))"
   ]
  },
  {
   "cell_type": "code",
   "execution_count": 49,
   "id": "128a0816",
   "metadata": {},
   "outputs": [
    {
     "name": "stdout",
     "output_type": "stream",
     "text": [
      "Do I need to use a tool? No \n",
      "\n",
      "Corn common rust is a plant disease caused by the fungus Puccinia sorghi. It infects corn and some species from the plant genus Oxalis. The disease is characterized by the appearance of small, circular, reddish-brown pustules on the leaves, stems, and ears of the corn plant. These pustules contain spores that can spread the disease to other plants. Common rust can reduce crop yields and quality, but can be managed through the use of resistant corn varieties and fungicides.\n"
     ]
    }
   ],
   "source": [
    "print(info)"
   ]
  },
  {
   "cell_type": "code",
   "execution_count": 50,
   "id": "0dbf1961",
   "metadata": {},
   "outputs": [
    {
     "name": "stdout",
     "output_type": "stream",
     "text": [
      "\n",
      "\n",
      "\u001b[1m> Entering new AgentExecutor chain...\u001b[0m\n",
      "\u001b[32;1m\u001b[1;3mThought: Do I need to use a tool? Yes\n",
      "Action: Wikipedia\n",
      "Action Input: Corn common rust\u001b[0m\n",
      "Observation: \u001b[36;1m\u001b[1;3mPage: Rust (fungus)\n",
      "Summary: Rusts are plant diseases caused by pathogenic fungi of the order Pucciniales (previously known as Uredinales).\n",
      "An estimated 168 rust genera and approximately 7,000 species, more than half of which belong to the genus Puccinia, are currently accepted. Rust fungi are highly specialized plant pathogens with several unique features. Taken as a group, rust fungi are diverse and affect many kinds of plants. However, each species has a very narrow range of hosts and cannot be transmitted to non-host plants. In addition, most rust fungi cannot be grown easily in pure culture.\n",
      "A single species of rust fungi may be able to infect two different plant hosts in different stages of its life cycle, and may produce up to five morphologically and cytologically distinct spore-producing structures viz., spermogonia, aecia, uredinia, telia, and basidia in successive stages of reproduction.  Each spore type is very host specific, and can typically infect only one kind of plant.\n",
      "Rust fungi are obligate plant pathogens that only infect living plants. Infections begin when a spore lands on the plant surface, germinates, and invades its host. Infection is limited to plant parts such as leaves, petioles, tender shoots, stem, fruits, etc. Plants with severe rust infection may appear stunted, chlorotic (yellowed), or may display signs of infection such as rust fruiting bodies. Rust fungi grow intracellularly, and make spore-producing fruiting bodies within or, more often, on the surfaces of affected plant parts.  Some rust species form perennial systemic infections that may cause plant deformities such as growth retardation, witch's broom, stem canker, galls, or hypertrophy of affected plant parts.\n",
      "Rusts get their name because they are most commonly observed as deposits of powdery rust-coloured or brown spores on plant surfaces. The Roman agricultural festival Robigalia (April 25) has ancient origins in combating wheat rust.\n",
      "\n",
      "Page: Puccinia sorghi\n",
      "Summary: Puccinia sorghi, or common rust of maize, is a species of rust fungus that infects corn and species from the plant genus Oxalis.\n",
      "\n",
      "\u001b[0m\n",
      "Thought:"
     ]
    }
   ],
   "source": [
    "try:\n",
    "    cause = agent.run(input=caused)\n",
    "except Exception as e:\n",
    "    cause =str(e)\n",
    "    if cause.startswith(\"Could not parse LLM output: `\"):\n",
    "        cause = info.removeprefix(\"Could not parse LLM output: `\").removesuffix(\"`\")\n",
    "    else:\n",
    "        raise Exception(str(e))"
   ]
  },
  {
   "cell_type": "code",
   "execution_count": 51,
   "id": "9819a2e9",
   "metadata": {},
   "outputs": [
    {
     "name": "stdout",
     "output_type": "stream",
     "text": [
      "Do I need to use a tool? No \n",
      "\n",
      "Corn common rust is a plant disease caused by the fungus Puccinia sorghi. It infects corn and some species from the plant genus Oxalis. The disease is characterized by the appearance of small, circular, reddish-brown pustules on the leaves, stems, and ears of the corn plant. These pustules contain spores that can spread the disease to other plants. Common rust can reduce crop yields and quality, but can be managed through the use of resistant corn varieties and fungicides.\n"
     ]
    }
   ],
   "source": [
    "print(cause)"
   ]
  },
  {
   "cell_type": "code",
   "execution_count": 52,
   "id": "d7b3ff70",
   "metadata": {},
   "outputs": [
    {
     "name": "stdout",
     "output_type": "stream",
     "text": [
      "\n",
      "\n",
      "\u001b[1m> Entering new AgentExecutor chain...\u001b[0m\n",
      "\u001b[32;1m\u001b[1;3mThought: Do I need to use a tool? Yes\n",
      "Action: Wikipedia\n",
      "Action Input: Cure for Corn Common Rust\u001b[0m\n",
      "Observation: \u001b[36;1m\u001b[1;3mPage: Linseed oil\n",
      "Summary: Linseed oil, also known as flaxseed oil or flax oil (in its edible form), is a colourless to yellowish oil obtained from the dried, ripened seeds of the flax plant (Linum usitatissimum). The oil is obtained by pressing, sometimes followed by solvent extraction. \n",
      "Owing to its polymer-forming properties, linseed oil is often blended with combinations of other oils, resins or solvents as an impregnator, drying oil finish or varnish in wood finishing, as a pigment binder in oil paints, as a plasticizer and hardener in putty, and in the manufacture of linoleum. Linseed oil use has declined over the past several decades with increased availability of synthetic alkyd resins—which function similarly but resist yellowing.Linseed oil is an edible oil in demand as a dietary supplement, as a source of α-Linolenic acid, an omega-3 fatty acid. In parts of Europe, it is traditionally eaten with potatoes and quark.\n",
      "\n",
      "Page: Potassium nitrate\n",
      "Summary: Potassium nitrate is a chemical compound with a sharp, salty, bitter taste and the chemical formula KNO3.  It is an ionic salt of potassium ions K+ and nitrate ions NO3−, and is therefore an alkali metal nitrate. It occurs in nature as a mineral, niter (or nitre in the UK). It is a source of nitrogen, and nitrogen was named after niter. Potassium nitrate is one of several nitrogen-containing compounds collectively referred to as saltpeter (or saltpetre in the UK).Major uses of potassium nitrate are in fertilizers, tree stump removal, rocket propellants and fireworks. It is one of the major constituents of gunpowder (black powder). In processed meats, potassium nitrate reacts with hemoglobin and myoglobin generating a red color.\n",
      "\n",
      "\n",
      "\n",
      "Page: Eraser\n",
      "Summary: An eraser (also known as a rubber in some Commonwealth countries, including South Africa  from the material first used) is an article of stationery that is used for removing marks from paper or skin (e.g. parchment or vellum). Erasers have a rubbery consistency and come in a variety of shapes, sizes, and colors. Some pencils have an eraser on one end. Less expensive erasers are made from synthetic rubber and synthetic soy-based gum, but more expensive or specialized erasers are made from vinyl, plastic, or gum-like materials.\n",
      "At first, erasers were invented to erase mistakes made with a pencil; later, more abrasive ink erasers were introduced. The term is also used for things that remove marks from chalkboards and whiteboards.\u001b[0m\n",
      "Thought:\u001b[32;1m\u001b[1;3mDo I need to use a tool? Yes\n",
      "Action: Wikipedia\n",
      "Action Input: Corn Common Rust\u001b[0m\n",
      "Observation: \u001b[36;1m\u001b[1;3mPage: Rust (fungus)\n",
      "Summary: Rusts are plant diseases caused by pathogenic fungi of the order Pucciniales (previously known as Uredinales).\n",
      "An estimated 168 rust genera and approximately 7,000 species, more than half of which belong to the genus Puccinia, are currently accepted. Rust fungi are highly specialized plant pathogens with several unique features. Taken as a group, rust fungi are diverse and affect many kinds of plants. However, each species has a very narrow range of hosts and cannot be transmitted to non-host plants. In addition, most rust fungi cannot be grown easily in pure culture.\n",
      "A single species of rust fungi may be able to infect two different plant hosts in different stages of its life cycle, and may produce up to five morphologically and cytologically distinct spore-producing structures viz., spermogonia, aecia, uredinia, telia, and basidia in successive stages of reproduction.  Each spore type is very host specific, and can typically infect only one kind of plant.\n",
      "Rust fungi are obligate plant pathogens that only infect living plants. Infections begin when a spore lands on the plant surface, germinates, and invades its host. Infection is limited to plant parts such as leaves, petioles, tender shoots, stem, fruits, etc. Plants with severe rust infection may appear stunted, chlorotic (yellowed), or may display signs of infection such as rust fruiting bodies. Rust fungi grow intracellularly, and make spore-producing fruiting bodies within or, more often, on the surfaces of affected plant parts.  Some rust species form perennial systemic infections that may cause plant deformities such as growth retardation, witch's broom, stem canker, galls, or hypertrophy of affected plant parts.\n",
      "Rusts get their name because they are most commonly observed as deposits of powdery rust-coloured or brown spores on plant surfaces. The Roman agricultural festival Robigalia (April 25) has ancient origins in combating wheat rust.\n",
      "\n",
      "Page: Puccinia sorghi\n",
      "Summary: Puccinia sorghi, or common rust of maize, is a species of rust fungus that infects corn and species from the plant genus Oxalis.\n",
      "\n",
      "\u001b[0m\n",
      "Thought:\u001b[32;1m\u001b[1;3mDo I need to use a tool? Yes\n",
      "Action: Wolfram Alpha\n",
      "Action Input: Cure for Corn Common Rust\u001b[0m\n",
      "Observation: \u001b[33;1m\u001b[1;3mWolfram Alpha wasn't able to answer it\u001b[0m\n",
      "Thought:\u001b[32;1m\u001b[1;3mDo I need to use a tool? No\n",
      "AI: Unfortunately, there is no cure for corn common rust. However, there are some management practices that can help reduce the impact of the disease, such as planting resistant varieties, crop rotation, and timely application of fungicides. It is also important to monitor the crop regularly and remove any infected plants to prevent the spread of the disease.\u001b[0m\n",
      "\n",
      "\u001b[1m> Finished chain.\u001b[0m\n"
     ]
    }
   ],
   "source": [
    "try:\n",
    "    precaution = agent.run(input=cure)\n",
    "except Exception as e:\n",
    "    precaution =str(e)\n",
    "    if precaution.startswith(\"Could not parse LLM output: `\"):\n",
    "        precaution = info.removeprefix(\"Could not parse LLM output: `\").removesuffix(\"`\")\n",
    "    else:\n",
    "        raise Exception(str(e))"
   ]
  },
  {
   "cell_type": "code",
   "execution_count": 53,
   "id": "173fbd71",
   "metadata": {},
   "outputs": [
    {
     "name": "stdout",
     "output_type": "stream",
     "text": [
      "Unfortunately, there is no cure for corn common rust. However, there are some management practices that can help reduce the impact of the disease, such as planting resistant varieties, crop rotation, and timely application of fungicides. It is also important to monitor the crop regularly and remove any infected plants to prevent the spread of the disease.\n"
     ]
    }
   ],
   "source": [
    "print(precaution)"
   ]
  }
 ],
 "metadata": {
  "kernelspec": {
   "display_name": "Python 3 (ipykernel)",
   "language": "python",
   "name": "python3"
  },
  "language_info": {
   "codemirror_mode": {
    "name": "ipython",
    "version": 3
   },
   "file_extension": ".py",
   "mimetype": "text/x-python",
   "name": "python",
   "nbconvert_exporter": "python",
   "pygments_lexer": "ipython3",
   "version": "3.10.6"
  }
 },
 "nbformat": 4,
 "nbformat_minor": 5
}
